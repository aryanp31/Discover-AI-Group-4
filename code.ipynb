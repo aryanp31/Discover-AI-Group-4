{
    "metadata": {
        "kernelspec": {
            "name": "python3",
            "display_name": "Python 3 (ipykernel)",
            "language": "python"
        }
    },
    "nbformat": 4,
    "nbformat_minor": 2,
    "cells": [
        {
            "attachments": {},
            "cell_type": "markdown",
            "metadata": {},
            "source": [
                "# **Clustering Online Retail Data**"
            ]
        },
        {
            "attachments": {},
            "cell_type": "markdown",
            "metadata": {},
            "source": [
                "The code below is taken from Manish Kumar's submission on [kaggle.com](https://www.kaggle.com/hellbuoy/online-retail-k-means-hierarchical-clustering/notebook).\n",
                "\n",
                "You are encouraged to go to the link above and check the full code. In this lab, you will do the necessary steps to explore the data and prepare it for sklearn algorithms."
            ]
        },
        {
            "attachments": {},
            "cell_type": "markdown",
            "metadata": {},
            "source": [
                "**About the data set**"
            ]
        },
        {
            "attachments": {},
            "cell_type": "markdown",
            "metadata": {},
            "source": [
                "Online retail is a transnational data set which contains all the transactions occurring between 01/12/2010 and 09/12/2011 for a UK-based and registered non-store online retail. The company mainly sells unique all-occasion gifts. Many customers of the company are wholesalers.\n",
                "\n",
                "Using K-Means Clustering, you can segement the Customers based on RFM so that the company can target its customers efficiently."
            ]
        },
        {
            "attachments": {},
            "cell_type": "markdown",
            "metadata": {},
            "source": [
                "**Import libraries**"
            ]
        },
        {
            "cell_type": "code",
            "execution_count": 2,
            "metadata": {},
            "outputs": [],
            "source": [
                "# import required libraries for dataframe and visualization\n",
                "\n",
                "import numpy as np # linear algebra\n",
                "import pandas as pd # data processing, CSV file I/O (e.g. pd.read_csv)\n",
                "import matplotlib.pyplot as plt # for data visualization\n",
                "import seaborn as sns # for statistical data visualization\n",
                "import datetime as dt\n",
                "\n",
                "# import required sklearn libraries for KMeans Clustering\n",
                "import sklearn\n",
                "from sklearn.preprocessing import MinMaxScaler\n",
                "from sklearn.cluster import KMeans"
            ]
        },
        {
            "attachments": {},
            "cell_type": "markdown",
            "metadata": {},
            "source": [
                "# Acquire data"
            ]
        },
        {
            "cell_type": "code",
            "execution_count": 3,
            "metadata": {},
            "outputs": [
                {
                    "data": {
                        "text/html": "\u003cdiv\u003e\n\u003cstyle scoped\u003e\n    .dataframe tbody tr th:only-of-type {\n        vertical-align: middle;\n    }\n\n    .dataframe tbody tr th {\n        vertical-align: top;\n    }\n\n    .dataframe thead th {\n        text-align: right;\n    }\n\u003c/style\u003e\n\u003ctable border=\"1\" class=\"dataframe\"\u003e\n  \u003cthead\u003e\n    \u003ctr style=\"text-align: right;\"\u003e\n      \u003cth\u003e\u003c/th\u003e\n      \u003cth\u003eInvoiceNo\u003c/th\u003e\n      \u003cth\u003eStockCode\u003c/th\u003e\n      \u003cth\u003eDescription\u003c/th\u003e\n      \u003cth\u003eQuantity\u003c/th\u003e\n      \u003cth\u003eInvoiceDate\u003c/th\u003e\n      \u003cth\u003eUnitPrice\u003c/th\u003e\n      \u003cth\u003eCustomerID\u003c/th\u003e\n      \u003cth\u003eCountry\u003c/th\u003e\n    \u003c/tr\u003e\n  \u003c/thead\u003e\n  \u003ctbody\u003e\n    \u003ctr\u003e\n      \u003cth\u003e0\u003c/th\u003e\n      \u003ctd\u003e536365\u003c/td\u003e\n      \u003ctd\u003e85123A\u003c/td\u003e\n      \u003ctd\u003eWHITE HANGING HEART T-LIGHT HOLDER\u003c/td\u003e\n      \u003ctd\u003e6\u003c/td\u003e\n      \u003ctd\u003e01-12-2010 8:26\u003c/td\u003e\n      \u003ctd\u003e2.55\u003c/td\u003e\n      \u003ctd\u003e17850.0\u003c/td\u003e\n      \u003ctd\u003eUnited Kingdom\u003c/td\u003e\n    \u003c/tr\u003e\n    \u003ctr\u003e\n      \u003cth\u003e1\u003c/th\u003e\n      \u003ctd\u003e536365\u003c/td\u003e\n      \u003ctd\u003e71053\u003c/td\u003e\n      \u003ctd\u003eWHITE METAL LANTERN\u003c/td\u003e\n      \u003ctd\u003e6\u003c/td\u003e\n      \u003ctd\u003e01-12-2010 8:26\u003c/td\u003e\n      \u003ctd\u003e3.39\u003c/td\u003e\n      \u003ctd\u003e17850.0\u003c/td\u003e\n      \u003ctd\u003eUnited Kingdom\u003c/td\u003e\n    \u003c/tr\u003e\n    \u003ctr\u003e\n      \u003cth\u003e2\u003c/th\u003e\n      \u003ctd\u003e536365\u003c/td\u003e\n      \u003ctd\u003e84406B\u003c/td\u003e\n      \u003ctd\u003eCREAM CUPID HEARTS COAT HANGER\u003c/td\u003e\n      \u003ctd\u003e8\u003c/td\u003e\n      \u003ctd\u003e01-12-2010 8:26\u003c/td\u003e\n      \u003ctd\u003e2.75\u003c/td\u003e\n      \u003ctd\u003e17850.0\u003c/td\u003e\n      \u003ctd\u003eUnited Kingdom\u003c/td\u003e\n    \u003c/tr\u003e\n    \u003ctr\u003e\n      \u003cth\u003e3\u003c/th\u003e\n      \u003ctd\u003e536365\u003c/td\u003e\n      \u003ctd\u003e84029G\u003c/td\u003e\n      \u003ctd\u003eKNITTED UNION FLAG HOT WATER BOTTLE\u003c/td\u003e\n      \u003ctd\u003e6\u003c/td\u003e\n      \u003ctd\u003e01-12-2010 8:26\u003c/td\u003e\n      \u003ctd\u003e3.39\u003c/td\u003e\n      \u003ctd\u003e17850.0\u003c/td\u003e\n      \u003ctd\u003eUnited Kingdom\u003c/td\u003e\n    \u003c/tr\u003e\n    \u003ctr\u003e\n      \u003cth\u003e4\u003c/th\u003e\n      \u003ctd\u003e536365\u003c/td\u003e\n      \u003ctd\u003e84029E\u003c/td\u003e\n      \u003ctd\u003eRED WOOLLY HOTTIE WHITE HEART.\u003c/td\u003e\n      \u003ctd\u003e6\u003c/td\u003e\n      \u003ctd\u003e01-12-2010 8:26\u003c/td\u003e\n      \u003ctd\u003e3.39\u003c/td\u003e\n      \u003ctd\u003e17850.0\u003c/td\u003e\n      \u003ctd\u003eUnited Kingdom\u003c/td\u003e\n    \u003c/tr\u003e\n  \u003c/tbody\u003e\n\u003c/table\u003e\n\u003c/div\u003e",
                        "text/plain": "  InvoiceNo StockCode                          Description  Quantity  \\\n0    536365    85123A   WHITE HANGING HEART T-LIGHT HOLDER         6   \n1    536365     71053                  WHITE METAL LANTERN         6   \n2    536365    84406B       CREAM CUPID HEARTS COAT HANGER         8   \n3    536365    84029G  KNITTED UNION FLAG HOT WATER BOTTLE         6   \n4    536365    84029E       RED WOOLLY HOTTIE WHITE HEART.         6   \n\n       InvoiceDate  UnitPrice  CustomerID         Country  \n0  01-12-2010 8:26       2.55     17850.0  United Kingdom  \n1  01-12-2010 8:26       3.39     17850.0  United Kingdom  \n2  01-12-2010 8:26       2.75     17850.0  United Kingdom  \n3  01-12-2010 8:26       3.39     17850.0  United Kingdom  \n4  01-12-2010 8:26       3.39     17850.0  United Kingdom  "
                    },
                    "execution_count": 3,
                    "metadata": {},
                    "output_type": "execute_result"
                }
            ],
            "source": [
                "# Read in the data using panda's read_csv method\n",
                "retail = pd.read_csv('UnsupervisedLearning/OnlineRetail/OnlineRetail.csv', sep=\",\", encoding=\"ISO-8859-1\", header=0)\n",
                "\n",
                "#TODO: Write code to inspect the first five rows of the data frame\n",
                "retail.head()"
            ]
        },
        {
            "attachments": {},
            "cell_type": "markdown",
            "metadata": {},
            "source": [
                "# Inspect data"
            ]
        },
        {
            "cell_type": "code",
            "execution_count": 4,
            "metadata": {},
            "outputs": [
                {
                    "data": {
                        "text/plain": "(2500, 8)"
                    },
                    "execution_count": 4,
                    "metadata": {},
                    "output_type": "execute_result"
                }
            ],
            "source": [
                "#TODO: Write code to inspect the shape of the data frame\n",
                "retail.shape"
            ]
        },
        {
            "cell_type": "code",
            "execution_count": 5,
            "metadata": {},
            "outputs": [
                {
                    "name": "stdout",
                    "output_type": "stream",
                    "text": "\u003cclass 'pandas.core.frame.DataFrame'\u003e\nRangeIndex: 2500 entries, 0 to 2499\nData columns (total 8 columns):\n #   Column       Non-Null Count  Dtype  \n---  ------       --------------  -----  \n 0   InvoiceNo    2500 non-null   object \n 1   StockCode    2500 non-null   object \n 2   Description  2490 non-null   object \n 3   Quantity     2500 non-null   int64  \n 4   InvoiceDate  2500 non-null   object \n 5   UnitPrice    2500 non-null   float64\n 6   CustomerID   1919 non-null   float64\n 7   Country      2500 non-null   object \ndtypes: float64(2), int64(1), object(5)\nmemory usage: 156.4+ KB\n"
                }
            ],
            "source": [
                "#TODO: Write code to display information about the data frame\n",
                "retail.info()"
            ]
        },
        {
            "cell_type": "code",
            "execution_count": 6,
            "metadata": {},
            "outputs": [
                {
                    "data": {
                        "text/html": "\u003cdiv\u003e\n\u003cstyle scoped\u003e\n    .dataframe tbody tr th:only-of-type {\n        vertical-align: middle;\n    }\n\n    .dataframe tbody tr th {\n        vertical-align: top;\n    }\n\n    .dataframe thead th {\n        text-align: right;\n    }\n\u003c/style\u003e\n\u003ctable border=\"1\" class=\"dataframe\"\u003e\n  \u003cthead\u003e\n    \u003ctr style=\"text-align: right;\"\u003e\n      \u003cth\u003e\u003c/th\u003e\n      \u003cth\u003eQuantity\u003c/th\u003e\n      \u003cth\u003eUnitPrice\u003c/th\u003e\n      \u003cth\u003eCustomerID\u003c/th\u003e\n    \u003c/tr\u003e\n  \u003c/thead\u003e\n  \u003ctbody\u003e\n    \u003ctr\u003e\n      \u003cth\u003ecount\u003c/th\u003e\n      \u003ctd\u003e2500.000000\u003c/td\u003e\n      \u003ctd\u003e2500.000000\u003c/td\u003e\n      \u003ctd\u003e1919.000000\u003c/td\u003e\n    \u003c/tr\u003e\n    \u003ctr\u003e\n      \u003cth\u003emean\u003c/th\u003e\n      \u003ctd\u003e10.065200\u003c/td\u003e\n      \u003ctd\u003e3.701044\u003c/td\u003e\n      \u003ctd\u003e15637.112559\u003c/td\u003e\n    \u003c/tr\u003e\n    \u003ctr\u003e\n      \u003cth\u003estd\u003c/th\u003e\n      \u003ctd\u003e29.139317\u003c/td\u003e\n      \u003ctd\u003e12.328907\u003c/td\u003e\n      \u003ctd\u003e1848.418705\u003c/td\u003e\n    \u003c/tr\u003e\n    \u003ctr\u003e\n      \u003cth\u003emin\u003c/th\u003e\n      \u003ctd\u003e-24.000000\u003c/td\u003e\n      \u003ctd\u003e0.000000\u003c/td\u003e\n      \u003ctd\u003e12431.000000\u003c/td\u003e\n    \u003c/tr\u003e\n    \u003ctr\u003e\n      \u003cth\u003e25%\u003c/th\u003e\n      \u003ctd\u003e1.000000\u003c/td\u003e\n      \u003ctd\u003e1.250000\u003c/td\u003e\n      \u003ctd\u003e14307.000000\u003c/td\u003e\n    \u003c/tr\u003e\n    \u003ctr\u003e\n      \u003cth\u003e50%\u003c/th\u003e\n      \u003ctd\u003e3.000000\u003c/td\u003e\n      \u003ctd\u003e2.510000\u003c/td\u003e\n      \u003ctd\u003e15605.000000\u003c/td\u003e\n    \u003c/tr\u003e\n    \u003ctr\u003e\n      \u003cth\u003e75%\u003c/th\u003e\n      \u003ctd\u003e10.000000\u003c/td\u003e\n      \u003ctd\u003e4.210000\u003c/td\u003e\n      \u003ctd\u003e17841.000000\u003c/td\u003e\n    \u003c/tr\u003e\n    \u003ctr\u003e\n      \u003cth\u003emax\u003c/th\u003e\n      \u003ctd\u003e600.000000\u003c/td\u003e\n      \u003ctd\u003e569.770000\u003c/td\u003e\n      \u003ctd\u003e18229.000000\u003c/td\u003e\n    \u003c/tr\u003e\n  \u003c/tbody\u003e\n\u003c/table\u003e\n\u003c/div\u003e",
                        "text/plain": "          Quantity    UnitPrice    CustomerID\ncount  2500.000000  2500.000000   1919.000000\nmean     10.065200     3.701044  15637.112559\nstd      29.139317    12.328907   1848.418705\nmin     -24.000000     0.000000  12431.000000\n25%       1.000000     1.250000  14307.000000\n50%       3.000000     2.510000  15605.000000\n75%      10.000000     4.210000  17841.000000\nmax     600.000000   569.770000  18229.000000"
                    },
                    "execution_count": 6,
                    "metadata": {},
                    "output_type": "execute_result"
                }
            ],
            "source": [
                "#TODO: Write code to display statistics about the data frame\n",
                "retail.describe()"
            ]
        },
        {
            "attachments": {},
            "cell_type": "markdown",
            "metadata": {},
            "source": [
                "# Clean data"
            ]
        },
        {
            "attachments": {},
            "cell_type": "markdown",
            "metadata": {},
            "source": [
                "**Correcting**"
            ]
        },
        {
            "cell_type": "code",
            "execution_count": 7,
            "metadata": {},
            "outputs": [],
            "source": [
                "#TODO: Write code to drop rows having missing values\n",
                "retail = retail.dropna()"
            ]
        },
        {
            "cell_type": "code",
            "execution_count": 7,
            "metadata": {},
            "outputs": [],
            "source": [
                "# Changing the datatype of Customer Id to a string as per Business understanding\n",
                "\n",
                "retail['CustomerID'] = retail['CustomerID'].astype(str)"
            ]
        },
        {
            "attachments": {},
            "cell_type": "markdown",
            "metadata": {},
            "source": [
                "**Creating**"
            ]
        },
        {
            "attachments": {},
            "cell_type": "markdown",
            "metadata": {},
            "source": [
                "We are going to analysis the Customers based on 3 factors:\n",
                "* R (Recency): Number of days since last purchase\n",
                "* F (Frequency): Number of transactions\n",
                "* M (Monetary): Total amount of transactions (revenue contributed)"
            ]
        },
        {
            "cell_type": "code",
            "execution_count": 8,
            "metadata": {},
            "outputs": [
                {
                    "data": {
                        "text/html": "\u003cdiv\u003e\n\u003cstyle scoped\u003e\n    .dataframe tbody tr th:only-of-type {\n        vertical-align: middle;\n    }\n\n    .dataframe tbody tr th {\n        vertical-align: top;\n    }\n\n    .dataframe thead th {\n        text-align: right;\n    }\n\u003c/style\u003e\n\u003ctable border=\"1\" class=\"dataframe\"\u003e\n  \u003cthead\u003e\n    \u003ctr style=\"text-align: right;\"\u003e\n      \u003cth\u003e\u003c/th\u003e\n      \u003cth\u003eCustomerID\u003c/th\u003e\n      \u003cth\u003eAmount\u003c/th\u003e\n    \u003c/tr\u003e\n  \u003c/thead\u003e\n  \u003ctbody\u003e\n    \u003ctr\u003e\n      \u003cth\u003e0\u003c/th\u003e\n      \u003ctd\u003e12431.0\u003c/td\u003e\n      \u003ctd\u003e358.25\u003c/td\u003e\n    \u003c/tr\u003e\n    \u003ctr\u003e\n      \u003cth\u003e1\u003c/th\u003e\n      \u003ctd\u003e12433.0\u003c/td\u003e\n      \u003ctd\u003e1919.14\u003c/td\u003e\n    \u003c/tr\u003e\n    \u003ctr\u003e\n      \u003cth\u003e2\u003c/th\u003e\n      \u003ctd\u003e12472.0\u003c/td\u003e\n      \u003ctd\u003e-122.30\u003c/td\u003e\n    \u003c/tr\u003e\n    \u003ctr\u003e\n      \u003cth\u003e3\u003c/th\u003e\n      \u003ctd\u003e12583.0\u003c/td\u003e\n      \u003ctd\u003e855.86\u003c/td\u003e\n    \u003c/tr\u003e\n    \u003ctr\u003e\n      \u003cth\u003e4\u003c/th\u003e\n      \u003ctd\u003e12662.0\u003c/td\u003e\n      \u003ctd\u003e261.48\u003c/td\u003e\n    \u003c/tr\u003e\n  \u003c/tbody\u003e\n\u003c/table\u003e\n\u003c/div\u003e",
                        "text/plain": "   CustomerID   Amount\n0     12431.0   358.25\n1     12433.0  1919.14\n2     12472.0  -122.30\n3     12583.0   855.86\n4     12662.0   261.48"
                    },
                    "execution_count": 8,
                    "metadata": {},
                    "output_type": "execute_result"
                }
            ],
            "source": [
                "# Create a new attribute : Monetary based on Quantity and UnitPrice\n",
                "\n",
                "retail['Amount'] = retail['Quantity']*retail['UnitPrice']\n",
                "rfm_m = retail.groupby('CustomerID')['Amount'].sum()\n",
                "rfm_m = rfm_m.reset_index()\n",
                "\n",
                "#TODO: Write code to inspect the first five rows of rfm_m\n",
                "rfm_m.head()"
            ]
        },
        {
            "cell_type": "code",
            "execution_count": 10,
            "metadata": {},
            "outputs": [
                {
                    "data": {
                        "text/html": "\u003cdiv\u003e\n\u003cstyle scoped\u003e\n    .dataframe tbody tr th:only-of-type {\n        vertical-align: middle;\n    }\n\n    .dataframe tbody tr th {\n        vertical-align: top;\n    }\n\n    .dataframe thead th {\n        text-align: right;\n    }\n\u003c/style\u003e\n\u003ctable border=\"1\" class=\"dataframe\"\u003e\n  \u003cthead\u003e\n    \u003ctr style=\"text-align: right;\"\u003e\n      \u003cth\u003e\u003c/th\u003e\n      \u003cth\u003eCustomerID\u003c/th\u003e\n      \u003cth\u003eFrequency\u003c/th\u003e\n    \u003c/tr\u003e\n  \u003c/thead\u003e\n  \u003ctbody\u003e\n    \u003ctr\u003e\n      \u003cth\u003e0\u003c/th\u003e\n      \u003ctd\u003e12431.0\u003c/td\u003e\n      \u003ctd\u003e14\u003c/td\u003e\n    \u003c/tr\u003e\n    \u003ctr\u003e\n      \u003cth\u003e1\u003c/th\u003e\n      \u003ctd\u003e12433.0\u003c/td\u003e\n      \u003ctd\u003e73\u003c/td\u003e\n    \u003c/tr\u003e\n    \u003ctr\u003e\n      \u003cth\u003e2\u003c/th\u003e\n      \u003ctd\u003e12472.0\u003c/td\u003e\n      \u003ctd\u003e14\u003c/td\u003e\n    \u003c/tr\u003e\n    \u003ctr\u003e\n      \u003cth\u003e3\u003c/th\u003e\n      \u003ctd\u003e12583.0\u003c/td\u003e\n      \u003ctd\u003e20\u003c/td\u003e\n    \u003c/tr\u003e\n    \u003ctr\u003e\n      \u003cth\u003e4\u003c/th\u003e\n      \u003ctd\u003e12662.0\u003c/td\u003e\n      \u003ctd\u003e15\u003c/td\u003e\n    \u003c/tr\u003e\n  \u003c/tbody\u003e\n\u003c/table\u003e\n\u003c/div\u003e",
                        "text/plain": "   CustomerID  Frequency\n0     12431.0         14\n1     12433.0         73\n2     12472.0         14\n3     12583.0         20\n4     12662.0         15"
                    },
                    "execution_count": 10,
                    "metadata": {},
                    "output_type": "execute_result"
                }
            ],
            "source": [
                "# Create a new attribute : Frequency based on invoice count per customer ID\n",
                "\n",
                "rfm_f = retail.groupby('CustomerID')['InvoiceNo'].count()\n",
                "rfm_f = rfm_f.reset_index()\n",
                "rfm_f.columns = ['CustomerID', 'Frequency']\n",
                "\n",
                "#TODO: Write code to inspect the first five rows of rfm_f\n",
                "rfm_f.head()"
            ]
        },
        {
            "cell_type": "code",
            "execution_count": 11,
            "metadata": {},
            "outputs": [
                {
                    "data": {
                        "text/html": "\u003cdiv\u003e\n\u003cstyle scoped\u003e\n    .dataframe tbody tr th:only-of-type {\n        vertical-align: middle;\n    }\n\n    .dataframe tbody tr th {\n        vertical-align: top;\n    }\n\n    .dataframe thead th {\n        text-align: right;\n    }\n\u003c/style\u003e\n\u003ctable border=\"1\" class=\"dataframe\"\u003e\n  \u003cthead\u003e\n    \u003ctr style=\"text-align: right;\"\u003e\n      \u003cth\u003e\u003c/th\u003e\n      \u003cth\u003eCustomerID\u003c/th\u003e\n      \u003cth\u003eAmount\u003c/th\u003e\n      \u003cth\u003eFrequency\u003c/th\u003e\n    \u003c/tr\u003e\n  \u003c/thead\u003e\n  \u003ctbody\u003e\n    \u003ctr\u003e\n      \u003cth\u003e0\u003c/th\u003e\n      \u003ctd\u003e12431.0\u003c/td\u003e\n      \u003ctd\u003e358.25\u003c/td\u003e\n      \u003ctd\u003e14\u003c/td\u003e\n    \u003c/tr\u003e\n    \u003ctr\u003e\n      \u003cth\u003e1\u003c/th\u003e\n      \u003ctd\u003e12433.0\u003c/td\u003e\n      \u003ctd\u003e1919.14\u003c/td\u003e\n      \u003ctd\u003e73\u003c/td\u003e\n    \u003c/tr\u003e\n    \u003ctr\u003e\n      \u003cth\u003e2\u003c/th\u003e\n      \u003ctd\u003e12472.0\u003c/td\u003e\n      \u003ctd\u003e-122.30\u003c/td\u003e\n      \u003ctd\u003e14\u003c/td\u003e\n    \u003c/tr\u003e\n    \u003ctr\u003e\n      \u003cth\u003e3\u003c/th\u003e\n      \u003ctd\u003e12583.0\u003c/td\u003e\n      \u003ctd\u003e855.86\u003c/td\u003e\n      \u003ctd\u003e20\u003c/td\u003e\n    \u003c/tr\u003e\n    \u003ctr\u003e\n      \u003cth\u003e4\u003c/th\u003e\n      \u003ctd\u003e12662.0\u003c/td\u003e\n      \u003ctd\u003e261.48\u003c/td\u003e\n      \u003ctd\u003e15\u003c/td\u003e\n    \u003c/tr\u003e\n  \u003c/tbody\u003e\n\u003c/table\u003e\n\u003c/div\u003e",
                        "text/plain": "   CustomerID   Amount  Frequency\n0     12431.0   358.25         14\n1     12433.0  1919.14         73\n2     12472.0  -122.30         14\n3     12583.0   855.86         20\n4     12662.0   261.48         15"
                    },
                    "execution_count": 11,
                    "metadata": {},
                    "output_type": "execute_result"
                }
            ],
            "source": [
                "# Merge the two data frames\n",
                "\n",
                "rfm = pd.merge(rfm_m, rfm_f, on='CustomerID', how='inner')\n",
                "\n",
                "#TODO: Write code to inspect the first five rows of rfm\n",
                "rfm.head()"
            ]
        },
        {
            "cell_type": "code",
            "execution_count": 12,
            "metadata": {},
            "outputs": [
                {
                    "data": {
                        "text/html": "\u003cdiv\u003e\n\u003cstyle scoped\u003e\n    .dataframe tbody tr th:only-of-type {\n        vertical-align: middle;\n    }\n\n    .dataframe tbody tr th {\n        vertical-align: top;\n    }\n\n    .dataframe thead th {\n        text-align: right;\n    }\n\u003c/style\u003e\n\u003ctable border=\"1\" class=\"dataframe\"\u003e\n  \u003cthead\u003e\n    \u003ctr style=\"text-align: right;\"\u003e\n      \u003cth\u003e\u003c/th\u003e\n      \u003cth\u003eCustomerID\u003c/th\u003e\n      \u003cth\u003eAmount\u003c/th\u003e\n      \u003cth\u003eFrequency\u003c/th\u003e\n      \u003cth\u003eRecency\u003c/th\u003e\n    \u003c/tr\u003e\n  \u003c/thead\u003e\n  \u003ctbody\u003e\n    \u003ctr\u003e\n      \u003cth\u003e0\u003c/th\u003e\n      \u003ctd\u003e12431.0\u003c/td\u003e\n      \u003ctd\u003e358.25\u003c/td\u003e\n      \u003ctd\u003e14\u003c/td\u003e\n      \u003ctd\u003e0\u003c/td\u003e\n    \u003c/tr\u003e\n    \u003ctr\u003e\n      \u003cth\u003e1\u003c/th\u003e\n      \u003ctd\u003e12433.0\u003c/td\u003e\n      \u003ctd\u003e1919.14\u003c/td\u003e\n      \u003ctd\u003e73\u003c/td\u003e\n      \u003ctd\u003e0\u003c/td\u003e\n    \u003c/tr\u003e\n    \u003ctr\u003e\n      \u003cth\u003e2\u003c/th\u003e\n      \u003ctd\u003e12472.0\u003c/td\u003e\n      \u003ctd\u003e-122.30\u003c/td\u003e\n      \u003ctd\u003e14\u003c/td\u003e\n      \u003ctd\u003e0\u003c/td\u003e\n    \u003c/tr\u003e\n    \u003ctr\u003e\n      \u003cth\u003e3\u003c/th\u003e\n      \u003ctd\u003e12583.0\u003c/td\u003e\n      \u003ctd\u003e855.86\u003c/td\u003e\n      \u003ctd\u003e20\u003c/td\u003e\n      \u003ctd\u003e0\u003c/td\u003e\n    \u003c/tr\u003e\n    \u003ctr\u003e\n      \u003cth\u003e4\u003c/th\u003e\n      \u003ctd\u003e12662.0\u003c/td\u003e\n      \u003ctd\u003e261.48\u003c/td\u003e\n      \u003ctd\u003e15\u003c/td\u003e\n      \u003ctd\u003e0\u003c/td\u003e\n    \u003c/tr\u003e\n  \u003c/tbody\u003e\n\u003c/table\u003e\n\u003c/div\u003e",
                        "text/plain": "   CustomerID   Amount  Frequency  Recency\n0     12431.0   358.25         14        0\n1     12433.0  1919.14         73        0\n2     12472.0  -122.30         14        0\n3     12583.0   855.86         20        0\n4     12662.0   261.48         15        0"
                    },
                    "execution_count": 12,
                    "metadata": {},
                    "output_type": "execute_result"
                }
            ],
            "source": [
                "# Create a new attribute : Recency\n",
                "# -----------------------------------\n",
                "\n",
                "# Convert to datetime to proper datatype\n",
                "retail['InvoiceDate'] = pd.to_datetime(retail['InvoiceDate'],format='%d-%m-%Y %H:%M')\n",
                "\n",
                "# Compute the maximum date to know the last transaction date\n",
                "max_date = max(retail['InvoiceDate'])\n",
                "\n",
                "# Compute the difference between max date and transaction date\n",
                "retail['Diff'] = max_date - retail['InvoiceDate']\n",
                "\n",
                "# Compute last transaction date to get the recency of customers\n",
                "rfm_p = retail.groupby('CustomerID')['Diff'].min()\n",
                "rfm_p = rfm_p.reset_index()\n",
                "\n",
                "# Extract number of days only\n",
                "rfm_p['Diff'] = rfm_p['Diff'].dt.days\n",
                "\n",
                "# Merge tha dataframes to get the final RFM dataframe\n",
                "rfm = pd.merge(rfm, rfm_p, on='CustomerID', how='inner')\n",
                "rfm.columns = ['CustomerID', 'Amount', 'Frequency', 'Recency']\n",
                "\n",
                "#TODO: Write code to inspect the first five rows of the data frame\n",
                "rfm.head()"
            ]
        },
        {
            "attachments": {},
            "cell_type": "markdown",
            "metadata": {},
            "source": [
                "**Remove outliers**"
            ]
        },
        {
            "cell_type": "code",
            "execution_count": 12,
            "metadata": {},
            "outputs": [],
            "source": [
                "# Outlier Analysis of Amount Frequency and Recency\n",
                "\n",
                "attributes = ['Amount','Frequency','Recency']\n",
                "plt.rcParams['figure.figsize'] = [10,8]\n",
                "sns.boxplot(data = rfm[attributes], orient=\"v\", palette=\"Set2\" ,whis=1.5,saturation=1, width=0.7)\n",
                "plt.title(\"Outliers Variable Distribution\", fontsize = 14, fontweight = 'bold')\n",
                "plt.ylabel(\"Range\", fontweight = 'bold')\n",
                "plt.xlabel(\"Attributes\", fontweight = 'bold')"
            ]
        },
        {
            "cell_type": "code",
            "execution_count": 14,
            "metadata": {},
            "outputs": [],
            "source": [
                "# Remove outliers for Amount\n",
                "Q1 = rfm.Amount.quantile(0.05)\n",
                "Q3 = rfm.Amount.quantile(0.95)\n",
                "IQR = Q3 - Q1\n",
                "rfm = rfm[(rfm.Amount \u003e= Q1 - 1.5*IQR) \u0026 (rfm.Amount \u003c= Q3 + 1.5*IQR)]\n",
                "\n",
                "#TODO: Write code to remove outliers for Recency\n",
                "Q1 = rfm.Recency.quantile(0.05)\n",
                "Q3 = rfm.Recency.quantile(0.95)\n",
                "IQR = Q3 - Q1\n",
                "rfm = rfm[(rfm.Recency \u003e= Q1 - 1.5*IQR) \u0026 (rfm.Recency \u003c= Q3 + 1.5*IQR)]\n",
                "\n",
                "# Remove outliers for Frequency\n",
                "Q1 = rfm.Frequency.quantile(0.05)\n",
                "Q3 = rfm.Frequency.quantile(0.95)\n",
                "IQR = Q3 - Q1\n",
                "rfm = rfm[(rfm.Frequency \u003e= Q1 - 1.5*IQR) \u0026 (rfm.Frequency \u003c= Q3 + 1.5*IQR)]"
            ]
        },
        {
            "attachments": {},
            "cell_type": "markdown",
            "metadata": {},
            "source": [
                "**Rescale attributes**"
            ]
        },
        {
            "cell_type": "code",
            "execution_count": 15,
            "metadata": {},
            "outputs": [
                {
                    "data": {
                        "text/html": "\u003cdiv\u003e\n\u003cstyle scoped\u003e\n    .dataframe tbody tr th:only-of-type {\n        vertical-align: middle;\n    }\n\n    .dataframe tbody tr th {\n        vertical-align: top;\n    }\n\n    .dataframe thead th {\n        text-align: right;\n    }\n\u003c/style\u003e\n\u003ctable border=\"1\" class=\"dataframe\"\u003e\n  \u003cthead\u003e\n    \u003ctr style=\"text-align: right;\"\u003e\n      \u003cth\u003e\u003c/th\u003e\n      \u003cth\u003eAmount\u003c/th\u003e\n      \u003cth\u003eFrequency\u003c/th\u003e\n      \u003cth\u003eRecency\u003c/th\u003e\n    \u003c/tr\u003e\n  \u003c/thead\u003e\n  \u003ctbody\u003e\n    \u003ctr\u003e\n      \u003cth\u003e0\u003c/th\u003e\n      \u003ctd\u003e0.191012\u003c/td\u003e\n      \u003ctd\u003e0.154762\u003c/td\u003e\n      \u003ctd\u003e0.0\u003c/td\u003e\n    \u003c/tr\u003e\n    \u003ctr\u003e\n      \u003cth\u003e1\u003c/th\u003e\n      \u003ctd\u003e0.787633\u003c/td\u003e\n      \u003ctd\u003e0.857143\u003c/td\u003e\n      \u003ctd\u003e0.0\u003c/td\u003e\n    \u003c/tr\u003e\n    \u003ctr\u003e\n      \u003cth\u003e2\u003c/th\u003e\n      \u003ctd\u003e0.007331\u003c/td\u003e\n      \u003ctd\u003e0.154762\u003c/td\u003e\n      \u003ctd\u003e0.0\u003c/td\u003e\n    \u003c/tr\u003e\n    \u003ctr\u003e\n      \u003cth\u003e3\u003c/th\u003e\n      \u003ctd\u003e0.381214\u003c/td\u003e\n      \u003ctd\u003e0.226190\u003c/td\u003e\n      \u003ctd\u003e0.0\u003c/td\u003e\n    \u003c/tr\u003e\n    \u003ctr\u003e\n      \u003cth\u003e4\u003c/th\u003e\n      \u003ctd\u003e0.154024\u003c/td\u003e\n      \u003ctd\u003e0.166667\u003c/td\u003e\n      \u003ctd\u003e0.0\u003c/td\u003e\n    \u003c/tr\u003e\n  \u003c/tbody\u003e\n\u003c/table\u003e\n\u003c/div\u003e",
                        "text/plain": "     Amount  Frequency  Recency\n0  0.191012   0.154762      0.0\n1  0.787633   0.857143      0.0\n2  0.007331   0.154762      0.0\n3  0.381214   0.226190      0.0\n4  0.154024   0.166667      0.0"
                    },
                    "execution_count": 15,
                    "metadata": {},
                    "output_type": "execute_result"
                }
            ],
            "source": [
                "# Rescaling the attributes using a MinMaxScaler\n",
                "\n",
                "rfm_df = rfm[['Amount', 'Frequency', 'Recency']]\n",
                "\n",
                "# Instantiate\n",
                "scaler = MinMaxScaler()\n",
                "\n",
                "# fit_transform\n",
                "rfm_df_scaled = scaler.fit_transform(rfm_df)\n",
                "\n",
                "rfm_df_scaled = pd.DataFrame(rfm_df_scaled)\n",
                "rfm_df_scaled.columns = ['Amount', 'Frequency', 'Recency']\n",
                "rfm_df_scaled.head()"
            ]
        },
        {
            "attachments": {},
            "cell_type": "markdown",
            "metadata": {},
            "source": [
                "# Earn Your Wings"
            ]
        },
        {
            "attachments": {},
            "cell_type": "markdown",
            "metadata": {},
            "source": [
                "Implement a K-Means Clustering algorithm on the cleaned data set. Use the elbow method to find the right value of k to use.\n",
                "Add comments in your code to explain each step that you take in your implementation."
            ]
        }
    ]
}
